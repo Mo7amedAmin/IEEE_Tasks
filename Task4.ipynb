{
  "cells": [
    {
      "cell_type": "markdown",
      "metadata": {
        "id": "view-in-github",
        "colab_type": "text"
      },
      "source": [
        "<a href=\"https://colab.research.google.com/github/Mo7amedAmin/IEEE_Tasks/blob/main/Task4.ipynb\" target=\"_parent\"><img src=\"https://colab.research.google.com/assets/colab-badge.svg\" alt=\"Open In Colab\"/></a>"
      ]
    },
    {
      "cell_type": "markdown",
      "metadata": {
        "id": "01b6368a"
      },
      "source": [
        "<h1 align='center'><font color='red'> Task_4\n"
      ],
      "id": "01b6368a"
    },
    {
      "cell_type": "markdown",
      "metadata": {
        "id": "ce58d89a"
      },
      "source": [
        "1. [NumPy](#NumPy)\n",
        "1. [oop](#oop)\n",
        "3. [ProblemSolving](#ProblemSolving)\n"
      ],
      "id": "ce58d89a"
    },
    {
      "cell_type": "markdown",
      "metadata": {
        "id": "b4e00004"
      },
      "source": [
        "<a id='NumPy'></a>\n",
        "<h1><font color='red'> NumPy"
      ],
      "id": "b4e00004"
    },
    {
      "cell_type": "markdown",
      "metadata": {
        "id": "47431e1d"
      },
      "source": [
        "## 1.What does NumPy stand for?"
      ],
      "id": "47431e1d"
    },
    {
      "cell_type": "markdown",
      "metadata": {
        "id": "d41a0dbf"
      },
      "source": [
        "\n",
        "#### A) Number Python\n",
        "#### B)Numerator Python\n",
        "#### C) Numerical Python\n",
        "#### D)There is no full form, it is a stand-alone word  \n"
      ],
      "id": "d41a0dbf"
    },
    {
      "cell_type": "code",
      "execution_count": 84,
      "metadata": {
        "id": "zMrpHpmJ-_Il"
      },
      "outputs": [],
      "source": [
        "A = False #@param {type:\"boolean\"}\n",
        "B = False #@param {type:\"boolean\"}\n",
        "C = True #@param {type:\"boolean\"}\n",
        "D = False #@param {type:\"boolean\"}\n"
      ],
      "id": "zMrpHpmJ-_Il"
    },
    {
      "cell_type": "markdown",
      "metadata": {
        "id": "25547c4f"
      },
      "source": [
        "## 2.What does the size attribute in numpy use to find?"
      ],
      "id": "25547c4f"
    },
    {
      "cell_type": "markdown",
      "metadata": {
        "id": "5d3bce4d"
      },
      "source": [
        "\n",
        "#### A) number of items\n",
        "#### B)shape\n",
        "#### C) date & time\n",
        "#### D)unique items\n",
        "    "
      ],
      "id": "5d3bce4d"
    },
    {
      "cell_type": "code",
      "execution_count": 85,
      "metadata": {
        "id": "_zRmM_HQ_YyR"
      },
      "outputs": [],
      "source": [
        "A = True #@param {type:\"boolean\"}\n",
        "B = False #@param {type:\"boolean\"}\n",
        "C = False #@param {type:\"boolean\"}\n",
        "D = False #@param {type:\"boolean\"}"
      ],
      "id": "_zRmM_HQ_YyR"
    },
    {
      "cell_type": "markdown",
      "metadata": {
        "id": "3280ba3a"
      },
      "source": [
        "### 3.What is the purpose of zero() function?"
      ],
      "id": "3280ba3a"
    },
    {
      "cell_type": "markdown",
      "metadata": {
        "id": "b52b7109"
      },
      "source": [
        "#### A) To create a matrix with the first row and first column as 0\n",
        "#### B) To create a matrix with diagonal elements as 0\n",
        "#### C) To create a matrix with all elements as 0\n",
        "#### D) To return an integer number 0\n"
      ],
      "id": "b52b7109"
    },
    {
      "cell_type": "code",
      "execution_count": 86,
      "metadata": {
        "id": "-74WzwGj__cZ"
      },
      "outputs": [],
      "source": [
        "A = False #@param {type:\"boolean\"}\n",
        "B = False #@param {type:\"boolean\"}\n",
        "C = True #@param {type:\"boolean\"}\n",
        "D = False #@param {type:\"boolean\"}"
      ],
      "id": "-74WzwGj__cZ"
    },
    {
      "cell_type": "markdown",
      "metadata": {
        "id": "3618682c"
      },
      "source": [
        "<h1><font color='red'> Answer these question"
      ],
      "id": "3618682c"
    },
    {
      "cell_type": "markdown",
      "metadata": {
        "id": "e69e4a90"
      },
      "source": [
        "### 4- create 1D, 2D and 3D arrays in NumPy? then returns the type of the elements stored in the NumPy array."
      ],
      "id": "e69e4a90"
    },
    {
      "cell_type": "code",
      "execution_count": 87,
      "metadata": {
        "colab": {
          "base_uri": "https://localhost:8080/"
        },
        "id": "9c191a1e",
        "outputId": "7f081dee-73a5-4a12-a14b-d52a32527835"
      },
      "outputs": [
        {
          "output_type": "stream",
          "name": "stdout",
          "text": [
            "(4,) int64\n"
          ]
        }
      ],
      "source": [
        "# One-Dimensional array\n",
        "import numpy as np\n",
        "arr_1D = np.array([2000, 2002, 2007, 2015])\n",
        "print(arr_1D.shape, arr_1D.dtype)\n",
        "\n",
        "\n",
        "\n",
        "\n"
      ],
      "id": "9c191a1e"
    },
    {
      "cell_type": "code",
      "execution_count": 88,
      "metadata": {
        "colab": {
          "base_uri": "https://localhost:8080/"
        },
        "id": "94c39d76",
        "outputId": "38b193b4-9fd5-41ec-cb42-603a32419e0f"
      },
      "outputs": [
        {
          "output_type": "stream",
          "name": "stdout",
          "text": [
            "(3, 3) int64\n"
          ]
        }
      ],
      "source": [
        "# Two-Dimensional array\n",
        "arr_2D = np.array([[12, 145, 26],\n",
        "                   [37, 109, 88],\n",
        "                   [210, 61, 98]])\n",
        "print(arr_2D.shape, arr_2D.dtype)\n",
        "\n",
        "\n",
        "\n",
        "\n"
      ],
      "id": "94c39d76"
    },
    {
      "cell_type": "code",
      "execution_count": 89,
      "metadata": {
        "colab": {
          "base_uri": "https://localhost:8080/"
        },
        "id": "be5ef3e2",
        "outputId": "5a6f9bec-539c-4ba3-ef57-cdc44b34c51e"
      },
      "outputs": [
        {
          "output_type": "stream",
          "name": "stdout",
          "text": [
            "(3, 2, 2) bool\n"
          ]
        }
      ],
      "source": [
        "# Three-Dimensional array\n",
        "arr_3D = np.array([[[True, False], [True, True]],\n",
        "                   [[False, True], [True, False]],\n",
        "                   [[False, False], [False, True]]])\n",
        "print(arr_3D.shape, arr_3D.dtype)\n",
        "\n",
        "\n",
        "\n",
        "\n",
        "\n"
      ],
      "id": "be5ef3e2"
    },
    {
      "cell_type": "markdown",
      "metadata": {
        "id": "a7846d9f"
      },
      "source": [
        "### 5-Reverse this array [[[1,2,3,4],[4,5,6,7],[7,8,9,10]]] in two ways......"
      ],
      "id": "a7846d9f"
    },
    {
      "cell_type": "code",
      "execution_count": 90,
      "metadata": {
        "colab": {
          "base_uri": "https://localhost:8080/"
        },
        "id": "e98b8f1a",
        "outputId": "78c72fc4-970d-4381-c25f-24f4f046d744"
      },
      "outputs": [
        {
          "output_type": "stream",
          "name": "stdout",
          "text": [
            "[[[10  9  8  7]\n",
            "  [ 7  6  5  4]\n",
            "  [ 4  3  2  1]]]\n"
          ]
        }
      ],
      "source": [
        "# Method one\n",
        "\n",
        "arr = np.array([[[1,2,3,4],\n",
        "                 [4,5,6,7],\n",
        "                 [7,8,9,10]]])\n",
        "\n",
        "print(arr[:, ::-1, ::-1])\n",
        "\n",
        "\n",
        "\n",
        "\n"
      ],
      "id": "e98b8f1a"
    },
    {
      "cell_type": "code",
      "execution_count": 91,
      "metadata": {
        "colab": {
          "base_uri": "https://localhost:8080/"
        },
        "id": "48627ad8",
        "outputId": "89712b50-5af7-4fa4-84ee-3dcbafb10583"
      },
      "outputs": [
        {
          "output_type": "execute_result",
          "data": {
            "text/plain": [
              "array([[[10,  9,  8,  7],\n",
              "        [ 7,  6,  5,  4],\n",
              "        [ 4,  3,  2,  1]]])"
            ]
          },
          "metadata": {},
          "execution_count": 91
        }
      ],
      "source": [
        "# Method two\n",
        "#>**hint**: use flipud function\n",
        "arr = np.array([[[1,2,3,4],\n",
        "                 [4,5,6,7],\n",
        "                 [7,8,9,10]]])\n",
        "\n",
        "\n",
        "np.flip(arr)\n",
        "\n",
        "\n",
        "\n",
        "\n"
      ],
      "id": "48627ad8"
    },
    {
      "cell_type": "markdown",
      "metadata": {
        "id": "e85f1615"
      },
      "source": [
        "## 6-Make this array as an array one dimensional"
      ],
      "id": "e85f1615"
    },
    {
      "cell_type": "code",
      "execution_count": 92,
      "metadata": {
        "colab": {
          "base_uri": "https://localhost:8080/"
        },
        "id": "ebb77e8a",
        "outputId": "c525164b-9e27-46bb-c7da-f3e6c6b4adba"
      },
      "outputs": [
        {
          "output_type": "execute_result",
          "data": {
            "text/plain": [
              "array([ 1,  2,  3,  4,  4,  5,  6,  7,  7,  8,  9, 10])"
            ]
          },
          "metadata": {},
          "execution_count": 92
        }
      ],
      "source": [
        "arr.flatten()"
      ],
      "id": "ebb77e8a"
    },
    {
      "cell_type": "code",
      "execution_count": 92,
      "metadata": {
        "id": "72487dda"
      },
      "outputs": [],
      "source": [],
      "id": "72487dda"
    },
    {
      "cell_type": "markdown",
      "metadata": {
        "id": "bc6fd424"
      },
      "source": [
        "## 7- Create a 3X2 integer array and Prints its attributes¶\n",
        "* Note: The element must be a type of unsigned int16. And print the following Attributes:\n",
        "\n",
        "- The shape of an array.\n",
        "- Array dimensions.\n",
        "- The Length of each element of the array in bytes"
      ],
      "id": "bc6fd424"
    },
    {
      "cell_type": "code",
      "execution_count": 93,
      "metadata": {
        "id": "04f6f820",
        "colab": {
          "base_uri": "https://localhost:8080/"
        },
        "outputId": "db1494dd-5f27-47b3-c36f-93b15c8423d8"
      },
      "outputs": [
        {
          "output_type": "stream",
          "name": "stdout",
          "text": [
            "(3, 2)\n",
            "2\n",
            "2\n"
          ]
        }
      ],
      "source": [
        "arr = np.array([[1, 2],\n",
        "                [3, 4],\n",
        "                [5, 6]], dtype=np.int16)\n",
        "print(arr.shape)\n",
        "print(arr.ndim)\n",
        "print(arr.itemsize)"
      ],
      "id": "04f6f820"
    },
    {
      "cell_type": "markdown",
      "metadata": {
        "id": "c80d388f"
      },
      "source": [
        "### 8- Return array of odd rows and even columns from below numpy array\n",
        "\n",
        "* # Ordering the values of each Key and the print the key witht highest value.\n",
        "\n",
        "\n",
        "> **`sampleArray = numpy.array([[3 ,6, 9, 12], [15 ,18, 21, 24],\n",
        "[27 ,30, 33, 36], [39 ,42, 45, 48], [51 ,54, 57, 60]])`**\n",
        "\n",
        "\n",
        "# The output should be:\n",
        "* `expexted output :\n",
        "[[ 3  6  9 12]\n",
        " [15 18 21 24]\n",
        " [27 30 33 36]\n",
        " [39 42 45 48]\n",
        " [51 54 57 60]]`\n",
        "\n",
        "* `Printing array of odd rows and even columns\n",
        "[[ 6 12]\n",
        " [30 36]\n",
        " [54 60]]`*"
      ],
      "id": "c80d388f"
    },
    {
      "cell_type": "code",
      "execution_count": 112,
      "metadata": {
        "colab": {
          "base_uri": "https://localhost:8080/"
        },
        "id": "lT-8p9Ml4NT6",
        "outputId": "e23f4a43-81f4-4756-fafa-d50e29d5cc2c"
      },
      "outputs": [
        {
          "output_type": "execute_result",
          "data": {
            "text/plain": [
              "array([[ 6, 12],\n",
              "       [30, 36],\n",
              "       [54, 60]])"
            ]
          },
          "metadata": {},
          "execution_count": 112
        }
      ],
      "source": [
        "sampleArray = np.array([[3 ,6, 9, 12],\n",
        "                        [15 ,18, 21, 24],\n",
        "                        [27 ,30, 33, 36],\n",
        "                        [39 ,42, 45, 48],\n",
        "                        [51 ,54, 57, 60]])\n",
        "\n",
        "sampleArray[0::2, 1::2]"
      ],
      "id": "lT-8p9Ml4NT6"
    },
    {
      "cell_type": "markdown",
      "metadata": {
        "id": "eae73db7"
      },
      "source": [
        "## 9-How is np.mean() different from np.average() in NumPy?"
      ],
      "id": "eae73db7"
    },
    {
      "cell_type": "code",
      "execution_count": 95,
      "metadata": {
        "id": "8u9uBik3OHNt",
        "colab": {
          "base_uri": "https://localhost:8080/"
        },
        "outputId": "63252a0d-ebbe-4945-db04-d52da88cd6d6"
      },
      "outputs": [
        {
          "output_type": "execute_result",
          "data": {
            "text/plain": [
              "3.0"
            ]
          },
          "metadata": {},
          "execution_count": 95
        }
      ],
      "source": [
        "arr = [1, 2, 3, 4, 5]\n",
        "#np.mean() always computes the arithmetic mean\n",
        "np.mean(arr)"
      ],
      "id": "8u9uBik3OHNt"
    },
    {
      "cell_type": "code",
      "source": [
        "#np.average() has an optional weights parameter used to compute a weighted average\n",
        "np.average(arr)"
      ],
      "metadata": {
        "colab": {
          "base_uri": "https://localhost:8080/"
        },
        "id": "otDZ8xeWr9ZQ",
        "outputId": "6fa1b92b-0848-4dbe-be5c-3ba589ad1962"
      },
      "id": "otDZ8xeWr9ZQ",
      "execution_count": 96,
      "outputs": [
        {
          "output_type": "execute_result",
          "data": {
            "text/plain": [
              "3.0"
            ]
          },
          "metadata": {},
          "execution_count": 96
        }
      ]
    },
    {
      "cell_type": "code",
      "source": [
        "np.average(arr, weights = [.1, .5, .3, .7, .4])"
      ],
      "metadata": {
        "colab": {
          "base_uri": "https://localhost:8080/"
        },
        "id": "uGhv8B6usCA4",
        "outputId": "51e2a051-6967-475a-c7f3-508d45c71e83"
      },
      "id": "uGhv8B6usCA4",
      "execution_count": 97,
      "outputs": [
        {
          "output_type": "execute_result",
          "data": {
            "text/plain": [
              "3.4"
            ]
          },
          "metadata": {},
          "execution_count": 97
        }
      ]
    },
    {
      "cell_type": "markdown",
      "metadata": {
        "id": "81a2ddc8"
      },
      "source": [
        "## 10-Count the frequency of a given positive value appearing in this NumPy array\n",
        "## [1, 2, 1, 3, 5, 0, 0, 0, 2, 3] ?"
      ],
      "id": "81a2ddc8"
    },
    {
      "cell_type": "code",
      "execution_count": 98,
      "metadata": {
        "id": "de7ee71c",
        "colab": {
          "base_uri": "https://localhost:8080/"
        },
        "outputId": "1767eacd-c3c8-4bb5-e5ed-124f20d5a5ee"
      },
      "outputs": [
        {
          "output_type": "stream",
          "name": "stdout",
          "text": [
            "1\n",
            "2\n"
          ]
        }
      ],
      "source": [
        "x = int(input())\n",
        "arr = np.array([1, 2, 1, 3, 5, 0, 0, 0, 2, 3])\n",
        "mask = arr==x\n",
        "print(mask.sum())"
      ],
      "id": "de7ee71c"
    },
    {
      "cell_type": "markdown",
      "metadata": {
        "id": "dba015f1"
      },
      "source": [
        "## 11-Show how is arr[:,0] different from arr[:,[0]]"
      ],
      "id": "dba015f1"
    },
    {
      "cell_type": "code",
      "execution_count": 99,
      "metadata": {
        "id": "6fe4ab56",
        "colab": {
          "base_uri": "https://localhost:8080/"
        },
        "outputId": "008bfd58-32c3-40d7-fc7d-79b8aef86740"
      },
      "outputs": [
        {
          "output_type": "execute_result",
          "data": {
            "text/plain": [
              "array([ 3, 15, 27, 39, 51])"
            ]
          },
          "metadata": {},
          "execution_count": 99
        }
      ],
      "source": [
        "arr = np.array([[3, 6, 9, 12],\n",
        "                        [15, 18, 21, 24],\n",
        "                        [27, 30, 33, 36],\n",
        "                        [39, 42, 45, 48],\n",
        "                        [51, 54, 57, 60]])\n",
        "arr[:,0] #return 1D_array of the first column\n"
      ],
      "id": "6fe4ab56"
    },
    {
      "cell_type": "code",
      "execution_count": 100,
      "metadata": {
        "id": "f4694086",
        "colab": {
          "base_uri": "https://localhost:8080/"
        },
        "outputId": "67bfee2a-c1e6-4904-cff5-0bd568c7e24a"
      },
      "outputs": [
        {
          "output_type": "execute_result",
          "data": {
            "text/plain": [
              "array([[ 3],\n",
              "       [15],\n",
              "       [27],\n",
              "       [39],\n",
              "       [51]])"
            ]
          },
          "metadata": {},
          "execution_count": 100
        }
      ],
      "source": [
        "arr[:,[0]] #return 2D_array of the first column"
      ],
      "id": "f4694086"
    },
    {
      "cell_type": "markdown",
      "metadata": {
        "id": "6fe6ca1b"
      },
      "source": [
        "### 12-How do you multiply these 2 NumPy array matrices [[15,16,17],[18,19,20],[21,22,23]]  &  [[20,21,22],[23,24,25],[26,27,28]] ?"
      ],
      "id": "6fe6ca1b"
    },
    {
      "cell_type": "code",
      "execution_count": 101,
      "metadata": {
        "id": "7500d7e4",
        "colab": {
          "base_uri": "https://localhost:8080/"
        },
        "outputId": "465f0a13-afe2-4adf-e517-00eadf6b282b"
      },
      "outputs": [
        {
          "output_type": "stream",
          "name": "stdout",
          "text": [
            "[[300 336 374]\n",
            " [414 456 500]\n",
            " [546 594 644]]\n"
          ]
        }
      ],
      "source": [
        "mat1 =  np.array([[15,16,17],[18,19,20],[21,22,23]])\n",
        "mat2 =  np.array([[20,21,22],[23,24,25],[26,27,28]])\n",
        "\n",
        "print(mat1 * mat2)"
      ],
      "id": "7500d7e4"
    },
    {
      "cell_type": "code",
      "execution_count": 101,
      "metadata": {
        "id": "f9f6a9c3"
      },
      "outputs": [],
      "source": [],
      "id": "f9f6a9c3"
    },
    {
      "cell_type": "code",
      "execution_count": 101,
      "metadata": {
        "id": "29c487c4"
      },
      "outputs": [],
      "source": [],
      "id": "29c487c4"
    },
    {
      "cell_type": "markdown",
      "metadata": {
        "id": "87e4e530"
      },
      "source": [
        "### 13 -Combine these 2 NumPy arrays [1,2,3] & [4,5,6] using vstack()     and hstack()"
      ],
      "id": "87e4e530"
    },
    {
      "cell_type": "code",
      "execution_count": 102,
      "metadata": {
        "id": "8556f467",
        "colab": {
          "base_uri": "https://localhost:8080/"
        },
        "outputId": "b4150056-9b10-489c-b067-67d9b5460dca"
      },
      "outputs": [
        {
          "output_type": "stream",
          "name": "stdout",
          "text": [
            "[1 2 3 4 5 6]\n",
            "-------------\n",
            "[[1 2 3]\n",
            " [4 5 6]]\n"
          ]
        }
      ],
      "source": [
        "import numpy as np\n",
        "arr1 = np.array([1, 2, 3])\n",
        "arr2 = np.array([4, 5, 6])\n",
        "horizontal_stacked_arr = np.hstack([arr1, arr2])\n",
        "vertical_stacked_arr = np.vstack([arr1, arr2])\n",
        "print(horizontal_stacked_arr)\n",
        "print('-------------')\n",
        "print(vertical_stacked_arr)"
      ],
      "id": "8556f467"
    },
    {
      "cell_type": "markdown",
      "metadata": {
        "id": "6d99f57e"
      },
      "source": [
        "# <a id='oop'></a>\n",
        "<h1><font color='red'> oop"
      ],
      "id": "6d99f57e"
    },
    {
      "cell_type": "markdown",
      "metadata": {
        "id": "d09ebaa6"
      },
      "source": [
        "# 1 - a \"class\" is ... </font>\n",
        "\n",
        "<br> </br>\n",
        "#### A) an instance variable\n",
        "#### B) a code template for creating object\n",
        "#### C) a function in python\n",
        "#### D) a synonym for methods"
      ],
      "id": "d09ebaa6"
    },
    {
      "cell_type": "code",
      "execution_count": 103,
      "metadata": {
        "id": "dd8d79b8"
      },
      "outputs": [],
      "source": [
        "A = False #@param {type:\"boolean\"}\n",
        "B = True #@param {type:\"boolean\"}\n",
        "C = False #@param {type:\"boolean\"}\n",
        "D = False #@param {type:\"boolean\"}\n"
      ],
      "id": "dd8d79b8"
    },
    {
      "cell_type": "markdown",
      "metadata": {
        "id": "94da8748"
      },
      "source": [
        "# 2- What is a \"docstring\" ?</font>\n",
        "<br> </br>\n",
        "#### A) it is a sting literal specified in source code that is used to explain or document a specific segment of code\n",
        "#### B) it is a class method that allows working with string documents\n",
        "#### C) it is an alternative name for instance vaeiables of type string apprearing in classes\n",
        "#### D) it is a synonym for code comments"
      ],
      "id": "94da8748"
    },
    {
      "cell_type": "code",
      "execution_count": 104,
      "metadata": {
        "id": "b3e6804e"
      },
      "outputs": [],
      "source": [
        "A = True #@param {type:\"boolean\"}\n",
        "B = False #@param {type:\"boolean\"}\n",
        "C = False #@param {type:\"boolean\"}\n",
        "D = False #@param {type:\"boolean\"}\n"
      ],
      "id": "b3e6804e"
    },
    {
      "cell_type": "markdown",
      "metadata": {
        "id": "0d792965"
      },
      "source": [
        "## 3- Create a Bus class that inherits from the Vehicle class. Give the capacity argument of Bus.seating_capacity() a default value of 50.\n",
        "- Use the following code for your parent Vehicle class:.\n",
        ">   class Vehicle:\n",
        "    def __init__(self, name, max_speed, mileage):\n",
        "        self.name = name\n",
        "        self.max_speed = max_speed\n",
        "        self.mileage = mileage\n",
        "    def seating_capacity(self, capacity):\n",
        "        return f\"The seating capacity of a {self.name} is {capacity} passengers\n"
      ],
      "id": "0d792965"
    },
    {
      "cell_type": "code",
      "execution_count": 105,
      "metadata": {
        "id": "ca64451c"
      },
      "outputs": [],
      "source": [
        "class Vehicle:\n",
        "    def __init__(self, name, max_speed, mileage):\n",
        "      self.name = name\n",
        "      self.max_speed = max_speed\n",
        "      self.mileage = mileage\n",
        "    def seating_capacity(self, capacity=50):\n",
        "      return \"The seating capacity of a {} is {} passengers\".format(self.name, self.capacity)"
      ],
      "id": "ca64451c"
    },
    {
      "cell_type": "code",
      "execution_count": 106,
      "metadata": {
        "id": "238fb7cc"
      },
      "outputs": [],
      "source": [
        "class Bus(Vehicle):\n",
        "    def __init__(self, name, max_speed, mileage, ticket_price):\n",
        "       Vehicle().__init__(self, name, max_speed, mileage)\n",
        "       self.ticket_price = ticket_price"
      ],
      "id": "238fb7cc"
    },
    {
      "cell_type": "markdown",
      "metadata": {
        "id": "DKUWVq49LxBa"
      },
      "source": [
        "# <a id='ProblemSolving'></a>\n",
        "<h1><font color='red'>Problem Solving\n"
      ],
      "id": "DKUWVq49LxBa"
    },
    {
      "cell_type": "markdown",
      "metadata": {
        "id": "MwvD232bMq32"
      },
      "source": [
        "<a href='https://codeforces.com/problemset/problem/339/A'> **problem 1**"
      ],
      "id": "MwvD232bMq32"
    },
    {
      "cell_type": "code",
      "source": [
        "# Problem_1 Link:\n",
        "numbers = [int(x) for x in input().split('+')]\n",
        "\n",
        "numbers.sort()\n",
        "numbers_as_chars = [str(x) for x in numbers]\n",
        "\n",
        "result = '+'.join(numbers_as_chars)\n",
        "print(result)"
      ],
      "metadata": {
        "id": "MXff9PiV-1Bc"
      },
      "id": "MXff9PiV-1Bc",
      "execution_count": null,
      "outputs": []
    },
    {
      "cell_type": "markdown",
      "metadata": {
        "id": "DatcMQ4EM3Hb"
      },
      "source": [
        "<a href='https://codeforces.com/problemset/problem/118/A'> **problem 2**"
      ],
      "id": "DatcMQ4EM3Hb"
    },
    {
      "cell_type": "code",
      "execution_count": 110,
      "metadata": {
        "id": "bR2YKH5fLxBh",
        "colab": {
          "base_uri": "https://localhost:8080/"
        },
        "outputId": "21ba87ee-226b-4b7d-b713-0b9b88d6cb1b"
      },
      "outputs": [
        {
          "output_type": "stream",
          "name": "stdout",
          "text": [
            "MohamEd\n",
            ".m.h.m.d\n"
          ]
        }
      ],
      "source": [
        "# Problem_2 Link:\n",
        "str = input().lower()\n",
        "vowels = 'aeiouy'\n",
        "result = ''\n",
        "for char in str:\n",
        "    if char in vowels:\n",
        "        continue\n",
        "    else:\n",
        "        result = result + '.' + char\n",
        "\n",
        "print(result)\n",
        "\n",
        "\n"
      ],
      "id": "bR2YKH5fLxBh"
    }
  ],
  "metadata": {
    "colab": {
      "provenance": [],
      "include_colab_link": true
    },
    "kernelspec": {
      "display_name": "Python 3",
      "language": "python",
      "name": "python3"
    },
    "language_info": {
      "codemirror_mode": {
        "name": "ipython",
        "version": 3
      },
      "file_extension": ".py",
      "mimetype": "text/x-python",
      "name": "python",
      "nbconvert_exporter": "python",
      "pygments_lexer": "ipython3",
      "version": "3.8.8"
    }
  },
  "nbformat": 4,
  "nbformat_minor": 5
}