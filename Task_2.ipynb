{
  "nbformat": 4,
  "nbformat_minor": 0,
  "metadata": {
    "colab": {
      "provenance": []
    },
    "kernelspec": {
      "name": "python3",
      "display_name": "Python 3"
    },
    "language_info": {
      "name": "python"
    }
  },
  "cells": [
    {
      "cell_type": "markdown",
      "source": [
        "#**Task_2  ^_^**\n",
        "\n",
        "---"
      ],
      "metadata": {
        "id": "HqjLIidRrJI4"
      }
    },
    {
      "cell_type": "markdown",
      "source": [
        "# <font color='red'> 1) Mark down all the Valid function-calls for this function: </font>\n",
        "\n",
        "\n",
        "# def fun1(name, age):<br> ..... print(name,age)\n",
        "\n",
        "\n",
        "\n",
        "\n",
        "\n",
        "\n",
        "<br> </br>\n",
        "#### A) fun1( \"Emma\"  ,  23 )\n",
        "<br> </br>\n",
        "#### B) fun1( age = 23  ,  name = \"Emma\" )\n",
        "<br> </br>\n",
        "#### C) fun1( \"Emma\"  ,  age = 23 )\n",
        "<br> </br>\n",
        "#### D) fun1( name = \"Emma\" ,  23 )\n",
        "<br> </br>\n",
        "#### E) fun1( age = 23  ,  \"Emma\" )"
      ],
      "metadata": {
        "id": "W3zZBdg0raRU"
      }
    },
    {
      "cell_type": "code",
      "source": [
        "A = True #@param {type:\"boolean\"}\n",
        "B = True #@param {type:\"boolean\"}\n",
        "C = True #@param {type:\"boolean\"}\n",
        "D = False #@param {type:\"boolean\"}\n",
        "E = False #@param {type:\"boolean\"}\n"
      ],
      "metadata": {
        "id": "oUiqgPmFr3Y5"
      },
      "execution_count": null,
      "outputs": []
    },
    {
      "cell_type": "markdown",
      "source": [
        "# <font color='red'> 2) Debug the following code and correct the Error to make the output = 15: </font>\n",
        "\n",
        "\n",
        "    \n",
        "    def outer_fun(a, b , c):\n",
        "        def inner_fun(d , e):\n",
        "            return d + e\n",
        "\n",
        "        return inner_fun(a, b , c)\n",
        "        return a\n",
        "\n",
        "    result = outer_fun(5, 10)\n",
        "    print(result)"
      ],
      "metadata": {
        "id": "iQIcizgYsGJ-"
      }
    },
    {
      "cell_type": "code",
      "source": [
        "def outer_fun(a, b , c):\n",
        "    def inner_fun(d , e):\n",
        "        return d + e\n",
        "\n",
        "    return inner_fun(a, b)\n",
        "    return a\n",
        "\n",
        "result = outer_fun(5, 10, 0)\n",
        "print(result)"
      ],
      "metadata": {
        "id": "Nhi1O8T9sUwM",
        "colab": {
          "base_uri": "https://localhost:8080/"
        },
        "outputId": "389b5bb9-1c99-49d7-f150-717f9ae477e2"
      },
      "execution_count": null,
      "outputs": [
        {
          "output_type": "stream",
          "name": "stdout",
          "text": [
            "15\n"
          ]
        }
      ]
    },
    {
      "cell_type": "code",
      "source": [],
      "metadata": {
        "id": "TWBQ9PdpKNEW"
      },
      "execution_count": null,
      "outputs": []
    },
    {
      "cell_type": "markdown",
      "source": [
        "# <font color='red'> 3) Debug the following code and correct the Error to make the output = 16: </font>\n",
        "\n",
        "    def f1(x):\n",
        "        global x\n",
        "        x+=1\n",
        "        print(x)\n",
        "    f1(15)"
      ],
      "metadata": {
        "id": "AYpH9KvysT7D"
      }
    },
    {
      "cell_type": "code",
      "source": [
        "def f1(x):\n",
        "    x+=1\n",
        "    print(x)\n",
        "f1(15)"
      ],
      "metadata": {
        "id": "H6ZiDEOcsc8J",
        "colab": {
          "base_uri": "https://localhost:8080/"
        },
        "outputId": "224aeff1-87e7-46db-d522-f93367afb587"
      },
      "execution_count": null,
      "outputs": [
        {
          "output_type": "stream",
          "name": "stdout",
          "text": [
            "16\n"
          ]
        }
      ]
    },
    {
      "cell_type": "markdown",
      "source": [
        "# <font color='red'> 4) Write a function that takes any variable \"n\" and return its factorial: </font>\n",
        "\n",
        "##### **hint:** factorial of 5 = 5 x 4 x 3 x 2 x **1**\n",
        "## n! = n × (n - 1)!"
      ],
      "metadata": {
        "id": "DO43cMEjsdxb"
      }
    },
    {
      "cell_type": "code",
      "source": [
        "def fact(num):\n",
        "  result = 1\n",
        "  for n in range(1, num+1):\n",
        "    result = result * n\n",
        "  return result\n",
        "\n",
        "print(fact(5))\n"
      ],
      "metadata": {
        "id": "HDOOP5Xlsk2a",
        "colab": {
          "base_uri": "https://localhost:8080/"
        },
        "outputId": "e54c0e06-daa8-4561-bc65-0ecdf3a1a813"
      },
      "execution_count": null,
      "outputs": [
        {
          "output_type": "stream",
          "name": "stdout",
          "text": [
            "120\n"
          ]
        }
      ]
    },
    {
      "cell_type": "markdown",
      "source": [
        "# <font color='red'> 5) Write a code to print the following dictionary after: </font>\n",
        "* # Ordering the values of each Key and the print the key witht highest value.\n",
        "\n",
        "\n",
        "> **`dict ={ \"Ahmed\": (50 , 30 , 40) , \"Mohammed\": (15 , 10 , 25) , \"Khaled\": (10 , 40 , 20) }`**\n",
        "\n",
        "\n",
        "# The output should be:\n",
        "* `{\"Ahmed\": (50 , 40 , 30) , \"Mohammed\": (25 , 15 , 10) , \"Khaled\": (40 , 20 , 10)}`\n",
        "* `Ahmed`"
      ],
      "metadata": {
        "id": "Iqkj_-JXslnv"
      }
    },
    {
      "cell_type": "code",
      "source": [
        "dict ={ \"Ahmed\": (50 , 30 , 40) , \"Mohammed\": (15 , 10 , 25) , \"Khaled\": (10 , 40 , 20) }\n",
        "for key, value in dict.items():\n",
        "     dict[key] = tuple(sorted(value, reverse=True))\n",
        "\n",
        "print(dict)\n",
        "print(list(dict.keys())[0])"
      ],
      "metadata": {
        "id": "4KukOajzst0n",
        "colab": {
          "base_uri": "https://localhost:8080/"
        },
        "outputId": "f0d8d2ce-bfd6-4211-cd14-93cd85ba0a1e"
      },
      "execution_count": 1,
      "outputs": [
        {
          "output_type": "stream",
          "name": "stdout",
          "text": [
            "{'Ahmed': (50, 40, 30), 'Mohammed': (25, 15, 10), 'Khaled': (40, 20, 10)}\n",
            "Ahmed\n"
          ]
        }
      ]
    },
    {
      "cell_type": "code",
      "source": [],
      "metadata": {
        "id": "Q1iQMIMDDsBF"
      },
      "execution_count": null,
      "outputs": []
    },
    {
      "cell_type": "markdown",
      "source": [
        "# <font color='red'> 6) Write a Python function that accepts a string and counts the number of upper and lower case letters. </font>\n",
        "* ## Sample String : \"Do not Postpone today's Work To tomoRRow\"\n",
        "\n",
        "# Expected Output :\n",
        "* `No. of Upper case characters :  6`\n",
        "* `No. of Lower case Characters :  27 `\n",
        "\n",
        "\n",
        "\n",
        "\n",
        "\n"
      ],
      "metadata": {
        "id": "JIDxmPLrteLT"
      }
    },
    {
      "cell_type": "code",
      "source": [
        "str = input()\n",
        "lower = 0\n",
        "upper = 0\n",
        "for char in str:\n",
        "     if char.islower():\n",
        "          lower += 1\n",
        "     elif char.isupper():\n",
        "          upper += 1\n",
        "\n",
        "print('No. of Upper case characters : {}'.format(upper))\n",
        "print('No. of Lower case characters : {}'.format(lower))"
      ],
      "metadata": {
        "id": "P3csHw_ZuowG",
        "colab": {
          "base_uri": "https://localhost:8080/"
        },
        "outputId": "f134d9ac-23d2-4a2f-c550-cf7a3c879754"
      },
      "execution_count": 2,
      "outputs": [
        {
          "output_type": "stream",
          "name": "stdout",
          "text": [
            "Do not Postpone today's Work To tomoRRow\n",
            "No. of Upper case characters : 6\n",
            "No. of Lower case characters : 27\n"
          ]
        }
      ]
    },
    {
      "cell_type": "markdown",
      "source": [
        "# <font color='red'> 7) Write a Python function that two numbers N & M and print the summation of their last digits . </font>\n",
        "\n",
        "# * `Input :  13  12`\n",
        "# * `Output: 5`"
      ],
      "metadata": {
        "id": "nzWE8GrKusWX"
      }
    },
    {
      "cell_type": "code",
      "source": [
        "def last_digit_sum(n,m):\n",
        "     return n%10 + m%10\n",
        "\n",
        "l = [int(x) for x in input().split()]\n",
        "print(last_digit_sum(*l))\n"
      ],
      "metadata": {
        "id": "CoVidok6wP4n",
        "colab": {
          "base_uri": "https://localhost:8080/"
        },
        "outputId": "edb99695-cef2-424b-9494-b19e377c90cb"
      },
      "execution_count": 5,
      "outputs": [
        {
          "output_type": "stream",
          "name": "stdout",
          "text": [
            "12 13\n",
            "5\n"
          ]
        }
      ]
    },
    {
      "cell_type": "markdown",
      "source": [
        "# <font color='red'> 8) Your input is corresponding to a person's age (in days). print his age in years, months and days, followed by its respective message \"years\", \"months\" and \"days\" . </font>\n",
        "\n",
        "# * `Input :  400`\n",
        "# * `Output:  1 year  1 months  5 days`"
      ],
      "metadata": {
        "id": "GFVRG4HywQxr"
      }
    },
    {
      "cell_type": "code",
      "source": [
        "days = int(input())\n",
        "years = days//365\n",
        "days = days % 365\n",
        "months = days//30\n",
        "days = days % 30\n",
        "\n",
        "print('{} year {} months {} days'.format(years, months, days))"
      ],
      "metadata": {
        "id": "QIl8EKABt4yJ",
        "colab": {
          "base_uri": "https://localhost:8080/"
        },
        "outputId": "1b865e0d-9282-4a8b-a68b-a44a43d4d180"
      },
      "execution_count": 7,
      "outputs": [
        {
          "output_type": "stream",
          "name": "stdout",
          "text": [
            "400\n",
            "1 year 1 months 5 days\n"
          ]
        }
      ]
    },
    {
      "cell_type": "markdown",
      "source": [
        "# <font color='red'> **Solve these problems with python**:<br>\n",
        "<a href='https://codeforces.com/group/6Yv6FRlDFU/contest/327653/problem/C'> **problem 1** </a> </font>\n",
        "    <br>\n",
        "    <br>\n",
        "<a href='https://codeforces.com/group/6Yv6FRlDFU/contest/327653/problem/A'> **problem 2** </a> </font>"
      ],
      "metadata": {
        "id": "-DK6SmIpsuhs"
      }
    },
    {
      "cell_type": "code",
      "source": [
        "# problem_1 Link\n",
        "#https://codeforces.com/group/6Yv6FRlDFU/contest/327653/submission/213793557\n",
        "n = int(input())\n",
        "str = input()\n",
        "ans = 0\n",
        "for idx in range(len(str)-1):\n",
        "     if str[idx] == str[idx+1]:\n",
        "          ans += 1\n",
        "print(ans)"
      ],
      "metadata": {
        "id": "WWY0KOEFtPQd",
        "colab": {
          "base_uri": "https://localhost:8080/"
        },
        "outputId": "05eaac25-f45a-414f-cf35-8d9f0ca7d6f5"
      },
      "execution_count": 8,
      "outputs": [
        {
          "output_type": "stream",
          "name": "stdout",
          "text": [
            "4\n",
            "cbcc\n",
            "1\n"
          ]
        }
      ]
    },
    {
      "cell_type": "code",
      "source": [
        "# problem_2 Link\n",
        "#https://codeforces.com/group/6Yv6FRlDFU/contest/327653/submission/213801040"
      ],
      "metadata": {
        "id": "fbcnnzhEtPE4"
      },
      "execution_count": 10,
      "outputs": []
    },
    {
      "cell_type": "code",
      "source": [
        "n, m = map(int, input().split())\n",
        "str = ''\n",
        "check = True\n",
        "for i in range(n):\n",
        "     if i % 2 == 0:\n",
        "          str = str + '#'*m + '\\n'\n",
        "     else:\n",
        "          if check:\n",
        "               str = str + '.'*(m-1) + '#' + '\\n'\n",
        "          else:\n",
        "               str = str + '#' + '.'*(m-1) + '\\n'\n",
        "          check = not(check)\n",
        "\n",
        "print(str)"
      ],
      "metadata": {
        "id": "e1XcNAVUtb0i",
        "colab": {
          "base_uri": "https://localhost:8080/"
        },
        "outputId": "e3d72400-41ae-4d8a-f97c-a8ebce479a06"
      },
      "execution_count": 9,
      "outputs": [
        {
          "output_type": "stream",
          "name": "stdout",
          "text": [
            "5 3\n",
            "###\n",
            "..#\n",
            "###\n",
            "#..\n",
            "###\n",
            "\n"
          ]
        }
      ]
    }
  ]
}